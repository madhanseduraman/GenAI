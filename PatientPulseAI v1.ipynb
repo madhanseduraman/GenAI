{
 "cells": [
  {
   "cell_type": "markdown",
   "id": "fd6e2552-aaf2-486c-81b8-28c0f57af7f8",
   "metadata": {
    "tags": []
   },
   "source": [
    "# Patient Pulse AI - Building the RAG Engine"
   ]
  },
  {
   "cell_type": "markdown",
   "id": "d0b5c7bf-3090-4ee3-b3e8-10e22880d78c",
   "metadata": {},
   "source": [
    "## Install Libraries"
   ]
  },
  {
   "cell_type": "code",
   "execution_count": 4,
   "id": "169cebcc-d52b-4888-91fd-12e15031dd15",
   "metadata": {},
   "outputs": [],
   "source": [
    "#!pip install langsmith==0.3.18 --force-reinstall\n",
    "#!pip install langgraph\n",
    "#!pip install pipdeptree \n",
    "#!pip install tiktoken\n",
    "#!pip install --upgrade langchain langchain-text-splitters\n",
    "#!pip install llama-index\n",
    "#!pip install --upgrade llama-index langchain\n",
    "#!pip install llama-index-embeddings-langchain\n",
    "#!pip install llama-index-llms-langchain\n",
    "#!pip install -U langchain-google-vertexai\n",
    "#!pip install -U google-cloud-aiplatform\n",
    "#!pip install -U langchain-google-vertexai\n",
    "#!pip install llama-index-vector-stores-chroma\n",
    "#!pip install llama-index-embeddings-langchain\n",
    "#!pip install langchain-community\n",
    "#!pip install openpyxl\n",
    "#!pip install gradio"
   ]
  },
  {
   "cell_type": "markdown",
   "id": "1b122956-7390-4a33-b931-bffb2f545596",
   "metadata": {},
   "source": [
    "### Import the Libraries"
   ]
  },
  {
   "cell_type": "code",
   "execution_count": 5,
   "id": "42ec25c8-71d8-4590-ad70-0871c880573b",
   "metadata": {
    "tags": []
   },
   "outputs": [],
   "source": [
    "import getpass\n",
    "import os\n",
    "import base64\n",
    "import pandas as pd\n",
    "import json\n",
    "import vertexai\n",
    "import tiktoken # A popular tokenizer, though not directly from google-generativeai\n",
    "import time\n",
    "from vertexai.generative_models import GenerativeModel, Part, SafetySetting\n",
    "import warnings\n",
    "warnings.filterwarnings(\"ignore\")\n",
    "from langchain_text_splitters import RecursiveCharacterTextSplitter\n",
    "\n",
    "project_name = !(gcloud config get-value core/project)\n",
    "project_name = project_name[0]\n",
    "from llama_index.llms.langchain import LangChainLLM\n",
    "from langchain_google_vertexai import VertexAIEmbeddings\n",
    "\n",
    "\n",
    "from llama_index.core.schema import Document\n",
    "# import\n",
    "from llama_index.core import VectorStoreIndex, SimpleDirectoryReader\n",
    "from llama_index.vector_stores.chroma import ChromaVectorStore\n",
    "from llama_index.core import StorageContext\n",
    "#from llama_index.embeddings.huggingface import HuggingFaceEmbedding\n",
    "from IPython.display import Markdown, display\n",
    "import chromadb\n",
    "from llama_index.core import Settings"
   ]
  },
  {
   "cell_type": "code",
   "execution_count": 2,
   "id": "735a350f-7164-45b2-9cbf-327280316c04",
   "metadata": {
    "tags": []
   },
   "outputs": [],
   "source": [
    "#!pip install langsmith==0.3.18 --force-reinstall\n",
    "#!pip install langgraph"
   ]
  },
  {
   "cell_type": "code",
   "execution_count": 3,
   "id": "9482676d-5281-42e4-a009-5dd77bb4ee89",
   "metadata": {
    "tags": []
   },
   "outputs": [],
   "source": [
    "#!pip install pipdeptree "
   ]
  },
  {
   "cell_type": "markdown",
   "id": "815eba5a-d10a-4d4d-92a9-b9b3c5c81956",
   "metadata": {},
   "source": [
    "### Initializing the Models"
   ]
  },
  {
   "cell_type": "markdown",
   "id": "1bff57bf-d891-4212-889a-b53350eb0249",
   "metadata": {},
   "source": [
    "#### Embedding Model"
   ]
  },
  {
   "cell_type": "code",
   "execution_count": 6,
   "id": "c5b79964-671d-4549-bde7-9b9ffe10e253",
   "metadata": {
    "tags": []
   },
   "outputs": [],
   "source": [
    "\n",
    "embeddings = VertexAIEmbeddings(model_name=\"text-embedding-005\")\n",
    "\n",
    "text = \"This is a test document.\"\n",
    "\n",
    "query_result = embeddings.embed_query(text)"
   ]
  },
  {
   "cell_type": "markdown",
   "id": "a977462a-7de9-48cb-afc3-11ca2c9fe03d",
   "metadata": {},
   "source": [
    "#### Gemini Model"
   ]
  },
  {
   "cell_type": "code",
   "execution_count": 5,
   "id": "7cb4f927-2838-4c8d-8cfc-682a092c8f38",
   "metadata": {
    "tags": []
   },
   "outputs": [],
   "source": [
    "#Gemini\n",
    "class LLM_model:\n",
    "    def __init__(self, project, location, model_name):\n",
    "        self.project = project\n",
    "        self.location = location\n",
    "        self.model_name = model_name\n",
    "        self.generation_config = {\n",
    "            \"max_output_tokens\": 5000,\n",
    "            \"temperature\": 1,\n",
    "            \"top_p\": 0.8,\n",
    "        }\n",
    "        self.safety_settings = [\n",
    "            SafetySetting(\n",
    "                category=SafetySetting.HarmCategory.HARM_CATEGORY_HATE_SPEECH,\n",
    "                threshold=SafetySetting.HarmBlockThreshold.OFF\n",
    "            ),\n",
    "            SafetySetting(\n",
    "                category=SafetySetting.HarmCategory.HARM_CATEGORY_DANGEROUS_CONTENT,\n",
    "                threshold=SafetySetting.HarmBlockThreshold.OFF\n",
    "            ),\n",
    "            SafetySetting(\n",
    "                category=SafetySetting.HarmCategory.HARM_CATEGORY_SEXUALLY_EXPLICIT,\n",
    "                threshold=SafetySetting.HarmBlockThreshold.OFF\n",
    "            ),\n",
    "            SafetySetting(\n",
    "                category=SafetySetting.HarmCategory.HARM_CATEGORY_HARASSMENT,\n",
    "                threshold=SafetySetting.HarmBlockThreshold.OFF\n",
    "            ),\n",
    "        ]\n",
    "        vertexai.init(project=self.project, location=self.location)\n",
    "        self.model = GenerativeModel(self.model_name)\n",
    "\n",
    "    def complete(self, text):\n",
    "        chat = self.model.start_chat()\n",
    "        result=chat.send_message([text],\n",
    "                                 generation_config=self.generation_config,\n",
    "                                 safety_settings=self.safety_settings\n",
    "        )\n",
    "        text_result=result.candidates[0].content.parts[0].text\n",
    "        return text_result\n",
    "# Example usage:\n",
    "llm_gemini = LLM_model(project_name, \n",
    "                       \"us-central1\", \n",
    "                       \"gemini-2.5-pro\")"
   ]
  },
  {
   "cell_type": "markdown",
   "id": "a4a39a25-65ba-4b7a-8aab-49ffb0dca9fa",
   "metadata": {
    "tags": []
   },
   "source": [
    "### Loading the text reviews data"
   ]
  },
  {
   "cell_type": "code",
   "execution_count": 7,
   "id": "d4249196-0b30-44f9-9580-fda2d4b61d0a",
   "metadata": {
    "tags": []
   },
   "outputs": [],
   "source": [
    "documents = SimpleDirectoryReader(\"/home/jupyter/reviews/\").load_data()"
   ]
  },
  {
   "cell_type": "code",
   "execution_count": 8,
   "id": "9807d1cf-c3ed-46b9-8d6c-22ffd2f9fc40",
   "metadata": {
    "tags": []
   },
   "outputs": [],
   "source": [
    "# create client and a new collection\n",
    "chroma_client = chromadb.EphemeralClient()\n",
    "chroma_collection = chroma_client.create_collection(\"quickstart\")"
   ]
  },
  {
   "cell_type": "code",
   "execution_count": 10,
   "id": "861a6695-f922-4ac6-9df3-e08ad97d2350",
   "metadata": {
    "tags": []
   },
   "outputs": [],
   "source": [
    "#!pip install llama-index-embeddings-langchain\n",
    "#!pip install llama-index-llms-langchain"
   ]
  },
  {
   "cell_type": "code",
   "execution_count": 9,
   "id": "1844e94b-316d-41f1-a8c1-4573e09b21fe",
   "metadata": {
    "tags": []
   },
   "outputs": [],
   "source": [
    "\n",
    "from llama_index.core.settings import Settings\n",
    "#llm_gemini"
   ]
  },
  {
   "cell_type": "code",
   "execution_count": 10,
   "id": "9f78c208-5e49-4c86-889a-cac0ffcbbbc0",
   "metadata": {
    "tags": []
   },
   "outputs": [],
   "source": [
    "from langchain_google_vertexai import ChatVertexAI\n",
    "\n",
    "llm_gemini = ChatVertexAI(model_name=\"gemini-2.5-pro\", temperature=0)"
   ]
  },
  {
   "cell_type": "markdown",
   "id": "e2822fa6-153a-4604-aa64-eb1fbba0e430",
   "metadata": {},
   "source": [
    "### Chuking and Indexing "
   ]
  },
  {
   "cell_type": "code",
   "execution_count": 11,
   "id": "f0ab8e15-9337-4126-b34c-8c6db7ee1ab9",
   "metadata": {
    "tags": []
   },
   "outputs": [],
   "source": [
    "vector_store = ChromaVectorStore(chroma_collection=chroma_collection)\n",
    "storage_context = StorageContext.from_defaults(vector_store=vector_store)\n",
    "\n",
    "\n",
    "Settings.llm = llm_gemini\n",
    "Settings.chunk_size = 500\n",
    "Settings.chunk_overlap = 200\n",
    "Settings.embed_model = embeddings\n",
    "index = VectorStoreIndex.from_documents(\n",
    "    documents, storage_context=storage_context, embed_model=embeddings\n",
    ")"
   ]
  },
  {
   "cell_type": "code",
   "execution_count": 14,
   "id": "9886445f-2c04-437c-8058-f76aa2313f41",
   "metadata": {
    "tags": []
   },
   "outputs": [],
   "source": [
    "\n",
    "query_input = \"\"\" I want to go for my cholestrol checks, which hospital expertise is best?\"\"\""
   ]
  },
  {
   "cell_type": "markdown",
   "id": "fbd469a6-7631-49fc-8c51-a5f0ff6a8389",
   "metadata": {},
   "source": [
    "### Examining as Retriever"
   ]
  },
  {
   "cell_type": "code",
   "execution_count": 15,
   "id": "e50fc6f1-45d3-4e0f-84cf-8123efe12204",
   "metadata": {
    "tags": []
   },
   "outputs": [
    {
     "name": "stdout",
     "output_type": "stream",
     "text": [
      "5\n",
      "<class 'list'>\n"
     ]
    }
   ],
   "source": [
    "retriever = index.as_retriever(similarity_top_k=5, retriever_mode=\"llm\")\n",
    "nodes = retriever.retrieve(query_input)\n",
    "print(len(nodes))\n",
    "#print(nodes)\n",
    "print(type(nodes))"
   ]
  },
  {
   "cell_type": "markdown",
   "id": "2d581f75-69b1-417e-86e0-97f66577c1f4",
   "metadata": {},
   "source": [
    "#### Examining the Top 5 Retrievals"
   ]
  },
  {
   "cell_type": "code",
   "execution_count": 16,
   "id": "e4488b34-fe9d-4d1f-96ee-53ed5564369f",
   "metadata": {
    "scrolled": true,
    "tags": []
   },
   "outputs": [
    {
     "name": "stdout",
     "output_type": "stream",
     "text": [
      "dict_keys(['node', 'score', 'class_name'])\n",
      "0.468560514467231\n",
      "dict_keys(['node', 'score', 'class_name'])\n",
      "0.4677321376760027\n",
      "dict_keys(['node', 'score', 'class_name'])\n",
      "0.46397262200348877\n",
      "dict_keys(['node', 'score', 'class_name'])\n",
      "0.4591092594937437\n",
      "dict_keys(['node', 'score', 'class_name'])\n",
      "0.45544940161411995\n"
     ]
    },
    {
     "data": {
      "text/html": [
       "<span style=\"color:green; font-size:20px;\">START OF RETRIEVEAL TEXT - ********************************.</span>"
      ],
      "text/plain": [
       "<IPython.core.display.HTML object>"
      ]
     },
     "metadata": {},
     "output_type": "display_data"
    },
    {
     "data": {
      "text/html": [
       "<span style=\"color:blue; font-size:15px;\">Similarty Score: 0.468560514467231</span>"
      ],
      "text/plain": [
       "<IPython.core.display.HTML object>"
      ]
     },
     "metadata": {},
     "output_type": "display_data"
    },
    {
     "data": {
      "text/html": [
       "<span style=\"color:blue; font-size:15px;\">File Name: text_reviews_Glenagles.txt</span>"
      ],
      "text/plain": [
       "<IPython.core.display.HTML object>"
      ]
     },
     "metadata": {},
     "output_type": "display_data"
    },
    {
     "name": "stdout",
     "output_type": "stream",
     "text": [
      "--- End of Review ---\n",
      "\n",
      "--- Review #20 ---\n",
      "Datetime: 04/08/2025 14:25:33\n",
      "User: Dr. Martha Tara Lee\n",
      "Review: My experience at Gleneagles Hospital was marked by outstanding care, professionalism, and even a bit of humor, which made all the difference during my recovery. From the initial consultation to post-operative follow-ups, the staff’s dedication to patient well-being was evident. The state-of-the-art facilities and collaborative approach among the medical team provided a sense of security and trust throughout my treatment.\n",
      "\n",
      "I would like to especially thank the nurses in Ward 6 for their exceptional care. Not only were they incredibly attentive and kind, but their light-hearted humor helped me stay positive during a challenging time. Their jokes and playful banter made the atmosphere feel more relaxed, turning an otherwise stressful experience into one where I truly felt at ease.\n",
      "\n",
      "Additionally, I want to express my appreciation for the administrative and medical staff at Gleneagles who ensured seamless coordination, making my time at the hospital as smooth and efficient as possible. I am truly grateful for the comprehensive care and the warm, humorous support I received. I would highly recommend Gleneagles Hospital to anyone seeking top-quality medical services with a personal touch.\n",
      "--- End of Review ---\n",
      "\n",
      "--- Review #21 ---\n",
      "Datetime: 04/03/2025 01:44:59\n",
      "User: mohd shazwan\n",
      "Review: nan\n",
      "--- End of Review ---\n",
      "\n",
      "--- Review #22 ---\n",
      "Datetime: 03/11/2025 03:15:02\n",
      "User: veron lee\n",
      "Review: The hospital has been progressing with the upgrading to enhance the hospitality’s service level for the past months. Frankly, we are very disappointed with the service level. My hubby usually visit the  clinic every 6 months for his heart checkup. Prior to clinic consultation, he has had to do his usual blood  and urine test at the parkway lab centre. We noticed since our last visit in September 2024, the reception level at the parkway counter is very very slow in their job. The malay lady is so slow in the process.\n"
     ]
    },
    {
     "data": {
      "text/html": [
       "<span style=\"color:red; font-size:20px;\">END OF RETRIEVEAL TEXT - ********************************.</span>"
      ],
      "text/plain": [
       "<IPython.core.display.HTML object>"
      ]
     },
     "metadata": {},
     "output_type": "display_data"
    },
    {
     "data": {
      "text/html": [
       "<span style=\"color:green; font-size:20px;\">START OF RETRIEVEAL TEXT - ********************************.</span>"
      ],
      "text/plain": [
       "<IPython.core.display.HTML object>"
      ]
     },
     "metadata": {},
     "output_type": "display_data"
    },
    {
     "data": {
      "text/html": [
       "<span style=\"color:blue; font-size:15px;\">Similarty Score: 0.4677321376760027</span>"
      ],
      "text/plain": [
       "<IPython.core.display.HTML object>"
      ]
     },
     "metadata": {},
     "output_type": "display_data"
    },
    {
     "data": {
      "text/html": [
       "<span style=\"color:blue; font-size:15px;\">File Name: text_reviews_Glenagles.txt</span>"
      ],
      "text/plain": [
       "<IPython.core.display.HTML object>"
      ]
     },
     "metadata": {},
     "output_type": "display_data"
    },
    {
     "name": "stdout",
     "output_type": "stream",
     "text": [
      "If your insurance covers other health screening providers, avoid Gleneagles at all cost.\n",
      "--- End of Review ---\n",
      "\n",
      "--- Review #139 ---\n",
      "Datetime: 03/28/2023 15:25:07\n",
      "User: Min-Ren Seah\n",
      "Review: many specialists here\n",
      "--- End of Review ---\n",
      "\n",
      "--- Review #140 ---\n",
      "Datetime: 03/27/2023 23:07:43\n",
      "User: t\n",
      "Review: not recommended. Doctor was not professional at all, even though he is quite middle aged and expected to be more experienced. The staffs that assisted with the measuring of height and weight, blood pressure were nice and friendly (thus the 2 stars given). Would def not recommend this hospital in general and suggest to go to other hospitals for a better experience.\n",
      "--- End of Review ---\n",
      "\n",
      "--- Review #141 ---\n",
      "Datetime: 03/27/2023 08:34:39\n",
      "User: J P\n",
      "Review: Been waiting since 10.30am , post X-ray, for a doctors stamp & note on one of my documents. It’s now 4pm.\n",
      "First I was told on the phone it can be done within the day and I clarified and theysaid it will be couple of hours so I came early. Was expecting to be done by 12 as it’s a super simple check up.\n",
      "\n",
      "Then when I came in, doctor said it will only take 1 hour. Great.\n",
      "Then close to 12, no news yet, so a male nurse said come back at 3pm. I had double checked with him that 3pm I will have everything ready and he kept on saying yes.\n",
      "\n",
      "I came at 3.30pm and they said it’s still not done. The staff were joking with each other, laughing, etc rather than following up on my case.\n",
      "Only after I complained to one of the nurse, he called the other department. I asked him why is it taking this long, that I was told it’s within the day and doctor said only an hour etc and he had the cheek to be all snarky and tell me “well it’s still within the day right?”. I mean… what kind of customer service is this…????\n"
     ]
    },
    {
     "data": {
      "text/html": [
       "<span style=\"color:red; font-size:20px;\">END OF RETRIEVEAL TEXT - ********************************.</span>"
      ],
      "text/plain": [
       "<IPython.core.display.HTML object>"
      ]
     },
     "metadata": {},
     "output_type": "display_data"
    },
    {
     "data": {
      "text/html": [
       "<span style=\"color:green; font-size:20px;\">START OF RETRIEVEAL TEXT - ********************************.</span>"
      ],
      "text/plain": [
       "<IPython.core.display.HTML object>"
      ]
     },
     "metadata": {},
     "output_type": "display_data"
    },
    {
     "data": {
      "text/html": [
       "<span style=\"color:blue; font-size:15px;\">Similarty Score: 0.46397262200348877</span>"
      ],
      "text/plain": [
       "<IPython.core.display.HTML object>"
      ]
     },
     "metadata": {},
     "output_type": "display_data"
    },
    {
     "data": {
      "text/html": [
       "<span style=\"color:blue; font-size:15px;\">File Name: text_reviews_Glenagles.txt</span>"
      ],
      "text/plain": [
       "<IPython.core.display.HTML object>"
      ]
     },
     "metadata": {},
     "output_type": "display_data"
    },
    {
     "name": "stdout",
     "output_type": "stream",
     "text": [
      "It’s supposedly chef-designed meals but poorer quality & value-for-money than before. Pls bring back the old food court (miss the ban mian, chicken rice, nasi padang at reasonable prices of $5 to $8 per meal). I’m sure the staff and patients will appreciate that!\n",
      "--- End of Review ---\n",
      "\n",
      "--- Review #136 ---\n",
      "Datetime: 04/02/2023 13:02:58\n",
      "User: Ai Tee Cheryl Ng\n",
      "Review: My child just have a day op at Gleneagles hospital and I’m impressed by the nurses. They are very caring and helpful throughout our stay and make sure that my child is not traumatised at the end of the day.\n",
      "--- End of Review ---\n",
      "\n",
      "--- Review #137 ---\n",
      "Datetime: 03/30/2023 06:20:35\n",
      "User: YL Tan\n",
      "Review: Not impressed by the service. Had a day surgery and the nurses had different versions of whether should I take any painkillers or not when my doctor already informed them. Nurses should learn to be proactive and give specific instructions to patients who are in great pain and help them through rather than just standing there and expect patients to sit up/ move to the side on their own\n",
      "--- End of Review ---\n",
      "\n",
      "--- Review #138 ---\n",
      "Datetime: 03/29/2023 11:48:17\n",
      "User: David Cui\n",
      "Review: The Executive Health Screening division has some unprofessional doctors who don’t understand that they should respect the patients, not scolding them or judging patients by the patients’ race or country of origin. If your insurance covers other health screening providers, avoid Gleneagles at all cost.\n",
      "--- End of Review ---\n",
      "\n",
      "--- Review #139 ---\n",
      "Datetime: 03/28/2023 15:25:07\n",
      "User: Min-Ren Seah\n",
      "Review: many specialists here\n",
      "--- End of Review ---\n",
      "\n",
      "--- Review #140 ---\n",
      "Datetime: 03/27/2023 23:07:43\n",
      "User: t\n",
      "Review: not recommended. Doctor was not professional at all, even though he is quite middle aged and expected to be more experienced. The staffs that assisted with the measuring of height and weight, blood pressure were nice and friendly (thus the 2 stars given).\n"
     ]
    },
    {
     "data": {
      "text/html": [
       "<span style=\"color:red; font-size:20px;\">END OF RETRIEVEAL TEXT - ********************************.</span>"
      ],
      "text/plain": [
       "<IPython.core.display.HTML object>"
      ]
     },
     "metadata": {},
     "output_type": "display_data"
    },
    {
     "data": {
      "text/html": [
       "<span style=\"color:green; font-size:20px;\">START OF RETRIEVEAL TEXT - ********************************.</span>"
      ],
      "text/plain": [
       "<IPython.core.display.HTML object>"
      ]
     },
     "metadata": {},
     "output_type": "display_data"
    },
    {
     "data": {
      "text/html": [
       "<span style=\"color:blue; font-size:15px;\">Similarty Score: 0.4591092594937437</span>"
      ],
      "text/plain": [
       "<IPython.core.display.HTML object>"
      ]
     },
     "metadata": {},
     "output_type": "display_data"
    },
    {
     "data": {
      "text/html": [
       "<span style=\"color:blue; font-size:15px;\">File Name: text_reviews_Glenagles.txt</span>"
      ],
      "text/plain": [
       "<IPython.core.display.HTML object>"
      ]
     },
     "metadata": {},
     "output_type": "display_data"
    },
    {
     "name": "stdout",
     "output_type": "stream",
     "text": [
      "Relatively easy to get to but make sure your bills can be covered by private insurance or Medicare instead of OOP (out-of-pockrt).\n",
      "--- End of Review ---\n",
      "\n",
      "--- Review #412 ---\n",
      "Datetime: 01/14/2016 01:32:23\n",
      "User: Tan Seow Ching\n",
      "Review: nan\n",
      "--- End of Review ---\n",
      "\n",
      "--- Review #413 ---\n",
      "Datetime: 01/12/2016 14:55:39\n",
      "User: Tareq Salahuddin\n",
      "Review: Living donor liver transplant is performed in this hospital at Asian Centre for Liver Translaplant.\n",
      "--- End of Review ---\n",
      "\n",
      "--- Review #414 ---\n",
      "Datetime: 12/18/2015 09:11:05\n",
      "User: Karuna Kwan\n",
      "Review: Pelayanan yang baik sayangnya harus bayar harga.\n",
      "--- End of Review ---\n",
      "\n",
      "--- Review #415 ---\n",
      "Datetime: 12/01/2015 08:42:57\n",
      "User: Sameer Alfayez\n",
      "Review: Sincerity and professional and ethical dealing with patients\n",
      "--- End of Review ---\n",
      "\n",
      "--- Review #416 ---\n",
      "Datetime: 11/24/2015 02:18:11\n",
      "User: Adrian Lim\n",
      "Review: Here for a health screening. Pros - food and drinks provided. Cons - Long waiting times for each test. At least 2 hours wait for all to be completed.\n"
     ]
    },
    {
     "data": {
      "text/html": [
       "<span style=\"color:red; font-size:20px;\">END OF RETRIEVEAL TEXT - ********************************.</span>"
      ],
      "text/plain": [
       "<IPython.core.display.HTML object>"
      ]
     },
     "metadata": {},
     "output_type": "display_data"
    },
    {
     "data": {
      "text/html": [
       "<span style=\"color:green; font-size:20px;\">START OF RETRIEVEAL TEXT - ********************************.</span>"
      ],
      "text/plain": [
       "<IPython.core.display.HTML object>"
      ]
     },
     "metadata": {},
     "output_type": "display_data"
    },
    {
     "data": {
      "text/html": [
       "<span style=\"color:blue; font-size:15px;\">Similarty Score: 0.45544940161411995</span>"
      ],
      "text/plain": [
       "<IPython.core.display.HTML object>"
      ]
     },
     "metadata": {},
     "output_type": "display_data"
    },
    {
     "data": {
      "text/html": [
       "<span style=\"color:blue; font-size:15px;\">File Name: text_reviews_Glenagles.txt</span>"
      ],
      "text/plain": [
       "<IPython.core.display.HTML object>"
      ]
     },
     "metadata": {},
     "output_type": "display_data"
    },
    {
     "name": "stdout",
     "output_type": "stream",
     "text": [
      "We reached the lab at 8.15 and we hv to wait almost an hour to take the blood test . Why is it so??? We hv to wait for almost an hour . This has never happen before since we hv been patrons at the hospital for almost 10 years . I think image enhancement is good for the hospital but service level has to be raised up.\n",
      "--- End of Review ---\n",
      "\n",
      "--- Review #23 ---\n",
      "Datetime: 02/20/2025 10:18:43\n",
      "User: Joanna Chua\n",
      "Review: I must review this person who took a blood test for my mother-in-law at Gleneagle Hospital. Sivasangari Phlebotomist is really good in taking blood for blood test. No trace of pain and blue black on my 95 mother-in-law arm. Must praise her on her experiences and on the job she's doing.\n",
      "--- End of Review ---\n",
      "\n",
      "--- Review #24 ---\n",
      "Datetime: 02/18/2025 00:11:47\n",
      "User: Szeting Xu\n",
      "Review: nan\n",
      "--- End of Review ---\n",
      "\n",
      "--- Review #25 ---\n",
      "Datetime: 01/26/2025 17:25:39\n",
      "User: Connor Fenwick\n",
      "Review: Usually every year go for a checkup and have been clean smooth and perfect, aswell as the stuff you can do there.\n",
      "--- End of Review ---\n",
      "\n",
      "--- Review #26 ---\n",
      "Datetime: 01/25/2025 03:59:30\n",
      "User: Abneet Kaur Randhawa\n",
      "Review: I had an amazing experience at Gleneagles Hospital for my delivery. The staff was incredibly warm and supportive, making the whole process much smoother than I expected. The nurses were absolutely wonderful, providing excellent care and making sure I felt comfortable throughout. The food was also fantastic – definitely exceeded my expectations. I truly appreciated the attention to detail and the overall caring environment. Highly recommend this hospital for anyone looking for exceptional care!\n",
      "--- End of Review ---\n",
      "\n",
      "--- Review #27 ---\n",
      "Datetime: 01/24/2025 11:00:14\n",
      "User: Inka M\n",
      "Review: Our Gleneagles experience:\n",
      "\n",
      "- Good Doctors\n",
      "- Bad communication between departments.\n"
     ]
    },
    {
     "data": {
      "text/html": [
       "<span style=\"color:red; font-size:20px;\">END OF RETRIEVEAL TEXT - ********************************.</span>"
      ],
      "text/plain": [
       "<IPython.core.display.HTML object>"
      ]
     },
     "metadata": {},
     "output_type": "display_data"
    }
   ],
   "source": [
    "nodes_dicts = {}\n",
    "for i in range(len(nodes)):\n",
    "    nodes_dicts[f'nodes_dict_{i}'] = nodes[i].to_dict()\n",
    "    print(nodes_dicts[f'nodes_dict_{i}'].keys())\n",
    "    print(nodes_dicts[f'nodes_dict_{i}']['score'])\n",
    "\n",
    "\n",
    "from IPython.display import HTML\n",
    "for key, value in nodes_dicts.items():\n",
    "    node = value['node']\n",
    "    text = node.get('text', '')\n",
    "    file_path = node['metadata'].get('file_path', '')\n",
    "    file_name = node['metadata'].get('file_name', '')\n",
    "    score = value.get('score', 0)\n",
    "    #print(score)\n",
    "    display(HTML('<span style=\"color:green; font-size:20px;\">START OF RETRIEVEAL TEXT - ********************************.</span>'))\n",
    "    display(HTML(f'<span style=\"color:blue; font-size:15px;\">Similarty Score: {score}</span>'))\n",
    "    display(HTML(f'<span style=\"color:blue; font-size:15px;\">File Name: {file_name}</span>'))\n",
    "    print(text)\n",
    "    display(HTML('<span style=\"color:red; font-size:20px;\">END OF RETRIEVEAL TEXT - ********************************.</span>'))"
   ]
  },
  {
   "cell_type": "code",
   "execution_count": 17,
   "id": "fa1b259a-db3f-430c-9836-b76623fc8404",
   "metadata": {
    "tags": []
   },
   "outputs": [],
   "source": [
    "query_input = \"\"\" I want to go for my cholestrol checks, which hospital expertise is best?\"\"\""
   ]
  },
  {
   "cell_type": "code",
   "execution_count": 18,
   "id": "e55c8265-23d3-4ea9-a046-e80d17a1978e",
   "metadata": {
    "tags": []
   },
   "outputs": [
    {
     "data": {
      "text/markdown": [
       "<b>Based on the information provided, one user who visits Gleneagles every six months for a heart checkup, which includes blood and urine tests at the Parkway lab centre, expressed disappointment with the service level. This user found the reception at the lab counter to be \"very very slow\" and recommended avoiding Gleneagles for health screenings if your insurance covers other providers.\n",
       "\n",
       "Other reviews mention long waiting times, with one person waiting from 10:30 am to 4:00 pm for a doctor's note post-X-ray, and another describing a doctor as unprofessional.\n",
       "\n",
       "However, another patient had an outstanding experience, highlighting the professionalism, state-of-the-art facilities, and exceptional care from the nurses in Ward 6. This individual also noted that the hospital has many specialists.</b>"
      ],
      "text/plain": [
       "<IPython.core.display.Markdown object>"
      ]
     },
     "metadata": {},
     "output_type": "display_data"
    }
   ],
   "source": [
    "query_engine = index.as_query_engine()\n",
    "response = query_engine.query(query_input)\n",
    "display(Markdown(f\"<b>{response}</b>\"))"
   ]
  },
  {
   "cell_type": "code",
   "execution_count": 19,
   "id": "cdd1e6e6-9977-4688-9014-4d477f80afd8",
   "metadata": {
    "tags": []
   },
   "outputs": [],
   "source": [
    "from llama_index.core import load_index_from_storage\n",
    "from llama_index.core import StorageContext\n",
    "\n",
    "# rebuild storage context\n",
    "#storage_context = StorageContext.from_defaults(persist_dir=\"index\")\n",
    "doc_summary_index = load_index_from_storage(storage_context)"
   ]
  },
  {
   "cell_type": "code",
   "execution_count": 20,
   "id": "7ac70861-04f7-4115-8c9c-f8400337f1c7",
   "metadata": {
    "tags": []
   },
   "outputs": [],
   "source": [
    "query_engine = doc_summary_index.as_query_engine(\n",
    "    response_mode=\"tree_summarize\", use_async=True\n",
    ")"
   ]
  },
  {
   "cell_type": "code",
   "execution_count": 21,
   "id": "5af8b7b0-8861-415d-98ec-cce2a351ee02",
   "metadata": {
    "tags": []
   },
   "outputs": [
    {
     "data": {
      "text/plain": [
       "<llama_index.core.query_engine.retriever_query_engine.RetrieverQueryEngine at 0x7f18e9671330>"
      ]
     },
     "execution_count": 21,
     "metadata": {},
     "output_type": "execute_result"
    }
   ],
   "source": [
    "query_engine"
   ]
  },
  {
   "cell_type": "markdown",
   "id": "2f72b59c-02e2-4ef5-a355-f0ead6e25cb8",
   "metadata": {},
   "source": [
    "### Moving to Documment Summary Based Indexing"
   ]
  },
  {
   "cell_type": "code",
   "execution_count": 12,
   "id": "07c2a9cc-d8c4-4e03-a20e-2a0572cd27be",
   "metadata": {
    "tags": []
   },
   "outputs": [],
   "source": [
    "from llama_index.core import SimpleDirectoryReader, get_response_synthesizer\n",
    "from llama_index.core import DocumentSummaryIndex\n",
    "from llama_index.llms.openai import OpenAI\n",
    "from llama_index.core.node_parser import SentenceSplitter"
   ]
  },
  {
   "cell_type": "code",
   "execution_count": 13,
   "id": "6753e559-c9e2-4dbc-92be-9f51cc0b84aa",
   "metadata": {
    "tags": []
   },
   "outputs": [],
   "source": [
    "splitter = SentenceSplitter(chunk_size=700)"
   ]
  },
  {
   "cell_type": "code",
   "execution_count": 14,
   "id": "8a51d53c-b8b8-4570-bd2b-567a606729a0",
   "metadata": {
    "tags": []
   },
   "outputs": [
    {
     "data": {
      "application/vnd.jupyter.widget-view+json": {
       "model_id": "a57b628034af4c09885bd8f419edda63",
       "version_major": 2,
       "version_minor": 0
      },
      "text/plain": [
       "Parsing nodes:   0%|          | 0/8 [00:00<?, ?it/s]"
      ]
     },
     "metadata": {},
     "output_type": "display_data"
    },
    {
     "data": {
      "application/vnd.jupyter.widget-view+json": {
       "model_id": "85904717769744f7b0ba24f7305e91a0",
       "version_major": 2,
       "version_minor": 0
      },
      "text/plain": [
       "Summarizing documents:   0%|          | 0/8 [00:00<?, ?it/s]"
      ]
     },
     "metadata": {},
     "output_type": "display_data"
    },
    {
     "name": "stdout",
     "output_type": "stream",
     "text": [
      "current doc id: 16ca3b9f-0eba-4ed5-9cd1-c5418d2b796a\n",
      "current doc id: 41ef03bb-3ceb-4168-91dd-b342dc8a3fb3\n",
      "current doc id: be222ace-d333-4b43-ad42-028345219637\n",
      "current doc id: 8cfaddfb-7824-402e-9b85-f98792d43304\n",
      "current doc id: 261efe86-5ade-4587-bce4-479c1e01f289\n",
      "current doc id: 87927d30-0bfa-474e-97e9-1a10138171d1\n",
      "current doc id: a47938b8-f1ca-4fbc-b8dc-b403962eb6f6\n",
      "current doc id: 38cfbe78-15c5-4794-8db4-fa79efeff3ad\n"
     ]
    },
    {
     "data": {
      "application/vnd.jupyter.widget-view+json": {
       "model_id": "c17921d1d0e8468ca9754395c3b406f4",
       "version_major": 2,
       "version_minor": 0
      },
      "text/plain": [
       "Generating embeddings:   0%|          | 0/8 [00:00<?, ?it/s]"
      ]
     },
     "metadata": {},
     "output_type": "display_data"
    }
   ],
   "source": [
    "# default mode of building the index\n",
    "response_synthesizer = get_response_synthesizer(\n",
    "    response_mode=\"tree_summarize\", use_async=True\n",
    ")\n",
    "doc_summary_index = DocumentSummaryIndex.from_documents(\n",
    "    documents,\n",
    "    llm=llm_gemini,\n",
    "    transformations=[splitter],\n",
    "    response_synthesizer=response_synthesizer,\n",
    "    show_progress=True,\n",
    ")"
   ]
  },
  {
   "cell_type": "code",
   "execution_count": 15,
   "id": "9cd50456-c2cf-479f-9686-98bd72eb61a1",
   "metadata": {
    "tags": []
   },
   "outputs": [],
   "source": [
    "query_engine = doc_summary_index.as_query_engine(\n",
    "    response_mode=\"tree_summarize\", use_async=True\n",
    ")"
   ]
  },
  {
   "cell_type": "code",
   "execution_count": 31,
   "id": "f77f3ee9-1530-490c-b1d9-53437cbfcb86",
   "metadata": {
    "tags": []
   },
   "outputs": [],
   "source": [
    "from IPython.display import display, HTML, Markdown"
   ]
  },
  {
   "cell_type": "code",
   "execution_count": 32,
   "id": "e012c958-b87e-4c37-83f4-8a359f0b0745",
   "metadata": {
    "tags": []
   },
   "outputs": [],
   "source": [
    "query_input = \"\"\"\n",
    "\n",
    "what are the recent issues reported for KK Women hospital?\n",
    "\n",
    "\n",
    "\"\"\""
   ]
  },
  {
   "cell_type": "code",
   "execution_count": 33,
   "id": "a050ad25-ab35-4df8-8dc2-2cddfd8e8b5a",
   "metadata": {
    "tags": []
   },
   "outputs": [],
   "source": [
    "\n",
    "def show_banner(text, color=\"black\", size=15):\n",
    "    try:\n",
    "        from IPython.display import display, HTML\n",
    "        display(HTML(f'<span style=\"color:{color}; font-size:{size}px;\">{text}</span>'))\n",
    "    except Exception:\n",
    "        print(text)\n",
    "\n",
    "def show_markdown(text, size=18):\n",
    "    try:\n",
    "        from IPython.display import display, Markdown\n",
    "        display(Markdown(f\"<span style='font-size:{size}px;'>{text}</span>\"))\n",
    "    except Exception:\n",
    "        print(text)\n"
   ]
  },
  {
   "cell_type": "code",
   "execution_count": 40,
   "id": "23647cb6-ae55-4f02-a9dd-22ec8b78874d",
   "metadata": {
    "tags": []
   },
   "outputs": [],
   "source": [
    "query_input = \"\"\"Which reviews mention positive experiences with specific doctors or nurses, and what qualities were praised?\"\"\""
   ]
  },
  {
   "cell_type": "code",
   "execution_count": null,
   "id": "a68daa41-25c9-4205-b08f-846435423127",
   "metadata": {
    "tags": []
   },
   "outputs": [],
   "source": []
  },
  {
   "cell_type": "code",
   "execution_count": 1,
   "id": "87f11850-3b8d-457d-a7c6-6877c8959eec",
   "metadata": {
    "tags": []
   },
   "outputs": [],
   "source": [
    "#response = query_engine.query(query_input)"
   ]
  },
  {
   "cell_type": "code",
   "execution_count": null,
   "id": "cac66d25-6fb1-421d-8c92-b78ec4b25e0d",
   "metadata": {
    "tags": []
   },
   "outputs": [],
   "source": [
    "\n",
    "show_banner(\"LLM Retrieved answer ********************************.\", color=\"green\")\n",
    "show_markdown(f\"**{response}**\", size=20)\n",
    "show_banner(\"END OF RETRIEVAL TEXT - ********************************.\", color=\"red\")\n"
   ]
  },
  {
   "cell_type": "code",
   "execution_count": null,
   "id": "edb78059-2fb2-4530-a217-53f25cb0aebf",
   "metadata": {
    "tags": []
   },
   "outputs": [],
   "source": [
    "display(HTML('<span style=\"color:green; font-size:15px;\"> LLM Retrieved answer ********************************.</span>'))\n",
    "\n",
    "display(Markdown(f\"<span style='font-size: 20px;'>**{response}**</span>\"))\n",
    "\n",
    "display(HTML('<span style=\"color:red; font-size:15px;\">END OF RETRIEVEAL TEXT - ********************************.</span>'))"
   ]
  },
  {
   "cell_type": "code",
   "execution_count": null,
   "id": "33630ab0-ec51-45c8-ba8c-6ed86782487b",
   "metadata": {},
   "outputs": [],
   "source": [
    "response = query_engine.query(query_input)"
   ]
  },
  {
   "cell_type": "code",
   "execution_count": null,
   "id": "1112aefc-c551-4e4e-b3d1-b8eef68a5987",
   "metadata": {},
   "outputs": [],
   "source": [
    "Which reviews mention positive experiences with specific doctors or nurses, and what qualities were praised?"
   ]
  },
  {
   "cell_type": "markdown",
   "id": "c0d6c864-9ebc-49dc-a3b2-9a0161cafaf7",
   "metadata": {},
   "source": [
    "\n",
    "### 🧪 **RAG Engine Test Questions**\n",
    "\n",
    "1. **What complaints were raised about the Pelvic Floor Disorder Centre at SGH, and how was the hospital's response perceived?**\n",
    "\n",
    "2. **Summarize the experience of Priscillia Tan at the Head & Neck Centre, including wait times and staff behavior.**\n",
    "\n",
    "3. **Which reviews mention positive experiences with specific doctors or nurses, and what qualities were praised?**\n",
    "\n",
    "4. **What are the most common issues patients faced regarding appointment scheduling and wait times at SGH?**\n",
    "\n",
    "5. **Compare the experiences of patients at SGH versus other hospitals like NUH or Alexandra Hospital.**\n",
    "\n",
    "6. **Identify any reviews that discuss financial concerns or billing practices at SGH. What sentiments are expressed?**\n",
    "\n",
    "7. **What feedback was given about SGH’s emergency department (A&E), and how did patients describe their treatment there?**\n",
    "\n",
    "8. **Are there any reviews that mention SGH’s food quality or hospital facilities? What were the impressions?**\n",
    "\n",
    "9. **Which reviews reflect concerns about empathy and professionalism among SGH staff, and what examples are given?**\n",
    "\n",
    "10. **What suggestions or requests did patients make for improving SGH’s services or systems?**\n",
    "\n"
   ]
  },
  {
   "cell_type": "markdown",
   "id": "183fd876-ded3-45a5-bf2e-bd19035c8df3",
   "metadata": {},
   "source": [
    "### Simple Search Engine is now Ready"
   ]
  },
  {
   "cell_type": "code",
   "execution_count": 44,
   "id": "8156a8f2-4ef7-4a88-ad8f-97ac2035927a",
   "metadata": {
    "tags": []
   },
   "outputs": [],
   "source": [
    "import time"
   ]
  },
  {
   "cell_type": "code",
   "execution_count": null,
   "id": "2faaaabc-d53f-4784-892d-a1f3f9c00d53",
   "metadata": {
    "scrolled": true,
    "tags": []
   },
   "outputs": [
    {
     "name": "stdin",
     "output_type": "stream",
     "text": [
      "User:  •\tHow do patients compare the experience of giving birth at KKH versus Mount Alvernia?\n"
     ]
    },
    {
     "name": "stdout",
     "output_type": "stream",
     "text": [
      "User query****************************************************: •\tHow do patients compare the experience of giving birth at KKH versus Mount Alvernia?\n"
     ]
    },
    {
     "data": {
      "text/html": [
       "<span style=\"color:green; font-size:15px;\"> LLM Retrieved answer ********************************.</span>"
      ],
      "text/plain": [
       "<IPython.core.display.HTML object>"
      ]
     },
     "metadata": {},
     "output_type": "display_data"
    },
    {
     "data": {
      "text/markdown": [
       "<span style='font-size: 20px;'>**Based on patient accounts, experiences at Mount Alvernia are viewed unfavorably when compared to KKH.\n",
       "\n",
       "One patient who gave birth at both hospitals described the experience at Mount Alvernia as \"one of my worst\" and \"totally incomparable\" to the private ward at KKH. This individual found the nurses and lactation consultants at KKH's private ward to be helpful, experienced, and attentive. In contrast, at Mount Alvernia, they felt the nurses were unhelpful and dismissive of their pain.\n",
       "\n",
       "Another patient described his wife's stay at Mount Alvernia as \"torturing\" due to \"rude & sacarastic\" nurses. He stated that Mount Alvernia's \"knowledge and service standard is far off\" from KKH's, noting there is \"plenty of room for improvement.\"\n",
       "\n",
       "Other comments include:\n",
       "*   A patient who was dissatisfied with the pediatric care their child received at Mount Alvernia expressed that they \"should have gone to kk.\"\n",
       "*   A reviewer noted that government hospitals like KKH provide better services than the A&E at Mount Alvernia.\n",
       "\n",
       "Patient experiences at Mount Alvernia are varied:\n",
       "*   **Positive experiences** include descriptions of the hospital as \"nothing short of perfect\" and the decision to deliver there as the \"best decision ever.\" Nurses have been praised as \"impeccable,\" \"attentive,\" \"sweet,\" \"patient,\" and \"caring.\"\n",
       "*   **Negative experiences** include reports of \"traumatic and abusive\" births, rude and impatient nurses, and rough handling of a newborn. One patient's wife was subjected to nurses grabbing her breasts and pinching her nipples without warning. Other issues cited are poor service standards, unhelpful staff regarding breastfeeding issues, billing problems, and a lack of cleanliness.**</span>"
      ],
      "text/plain": [
       "<IPython.core.display.Markdown object>"
      ]
     },
     "metadata": {},
     "output_type": "display_data"
    },
    {
     "data": {
      "text/html": [
       "<span style=\"color:red; font-size:15px;\">END OF RETRIEVEAL TEXT - ********************************.</span>"
      ],
      "text/plain": [
       "<IPython.core.display.HTML object>"
      ]
     },
     "metadata": {},
     "output_type": "display_data"
    },
    {
     "name": "stdout",
     "output_type": "stream",
     "text": [
      "#############################################################\n",
      " Answered in 252.54 seconds.\n",
      "\n"
     ]
    },
    {
     "name": "stdin",
     "output_type": "stream",
     "text": [
      "User:  •\tWhich hospital in Singapore is most frequently praised for short waiting times in A&E?\n"
     ]
    },
    {
     "name": "stdout",
     "output_type": "stream",
     "text": [
      "User query****************************************************: •\tWhich hospital in Singapore is most frequently praised for short waiting times in A&E?\n"
     ]
    },
    {
     "data": {
      "text/html": [
       "<span style=\"color:green; font-size:15px;\"> LLM Retrieved answer ********************************.</span>"
      ],
      "text/plain": [
       "<IPython.core.display.HTML object>"
      ]
     },
     "metadata": {},
     "output_type": "display_data"
    },
    {
     "data": {
      "text/markdown": [
       "<span style='font-size: 20px;'>**Based on the information provided, no single hospital in Singapore is frequently praised for short waiting times in its Accident & Emergency (A&E) department.\n",
       "\n",
       "The feedback is inconsistent and contains numerous complaints about long waits across the board. Experiences described include waiting for many hours to see a doctor, get a bed, or be discharged. Specific wait times mentioned range from three hours to over 24 hours.\n",
       "\n",
       "While the majority of feedback is negative, there are some isolated accounts of positive experiences. Some individuals reported being attended to swiftly, seeing a doctor quickly, or having one of their \"fastest hospital experiences.\" However, these positive reviews are often contradicted by other reports of \"excruciatingly long wait times\" and \"agonisingly slow\" queues at the same hospital.**</span>"
      ],
      "text/plain": [
       "<IPython.core.display.Markdown object>"
      ]
     },
     "metadata": {},
     "output_type": "display_data"
    },
    {
     "data": {
      "text/html": [
       "<span style=\"color:red; font-size:15px;\">END OF RETRIEVEAL TEXT - ********************************.</span>"
      ],
      "text/plain": [
       "<IPython.core.display.HTML object>"
      ]
     },
     "metadata": {},
     "output_type": "display_data"
    },
    {
     "name": "stdout",
     "output_type": "stream",
     "text": [
      "#############################################################\n",
      " Answered in 429.13 seconds.\n",
      "\n"
     ]
    },
    {
     "name": "stdin",
     "output_type": "stream",
     "text": [
      "User:  •\tAre there reviews describing the process and outcome of knee replacement surgery at NUH?\n"
     ]
    },
    {
     "name": "stdout",
     "output_type": "stream",
     "text": [
      "User query****************************************************: •\tAre there reviews describing the process and outcome of knee replacement surgery at NUH?\n"
     ]
    },
    {
     "data": {
      "text/html": [
       "<span style=\"color:green; font-size:15px;\"> LLM Retrieved answer ********************************.</span>"
      ],
      "text/plain": [
       "<IPython.core.display.HTML object>"
      ]
     },
     "metadata": {},
     "output_type": "display_data"
    },
    {
     "data": {
      "text/markdown": [
       "<span style='font-size: 20px;'>**Based on the available information, there are no reviews that describe the process and outcome of a knee replacement surgery.\n",
       "\n",
       "However, there is one review that details the process leading up to a knee operation. The patient, who was scheduled for a \"lower priority\" procedure, describes being kept waiting and having to fast in six-hour intervals. After waiting 24 hours without food or drink, the patient was given tea and juice, which restarted the fasting period. The review was written while the patient was still waiting for the surgery, so it does not include the outcome.\n",
       "\n",
       "Other reviews mention the orthopedic department for different procedures:\n",
       "*   One patient's mother had surgery on her toe to remove bone fragments. The review states that the pain continued after the operation and alleges that a later X-ray revealed bone fragments were still present.\n",
       "*   A patient who had a Lumbar Disc Replacement reported being 90% pain-free six months after the procedure and described the doctor as \"very professional, friendly and caring.\"\n",
       "*   Another review details a frustrating diagnostic process for a \"walking issue\" that involved the orthopedic department, multiple scans, and concerns over escalating costs.**</span>"
      ],
      "text/plain": [
       "<IPython.core.display.Markdown object>"
      ]
     },
     "metadata": {},
     "output_type": "display_data"
    },
    {
     "data": {
      "text/html": [
       "<span style=\"color:red; font-size:15px;\">END OF RETRIEVEAL TEXT - ********************************.</span>"
      ],
      "text/plain": [
       "<IPython.core.display.HTML object>"
      ]
     },
     "metadata": {},
     "output_type": "display_data"
    },
    {
     "name": "stdout",
     "output_type": "stream",
     "text": [
      "#############################################################\n",
      " Answered in 319.00 seconds.\n",
      "\n"
     ]
    },
    {
     "name": "stdin",
     "output_type": "stream",
     "text": [
      "User:  •\tWhat feedback is there about wisdom tooth extraction at KTPH?\n"
     ]
    },
    {
     "name": "stdout",
     "output_type": "stream",
     "text": [
      "User query****************************************************: •\tWhat feedback is there about wisdom tooth extraction at KTPH?\n"
     ]
    },
    {
     "data": {
      "text/html": [
       "<span style=\"color:green; font-size:15px;\"> LLM Retrieved answer ********************************.</span>"
      ],
      "text/plain": [
       "<IPython.core.display.HTML object>"
      ]
     },
     "metadata": {},
     "output_type": "display_data"
    },
    {
     "data": {
      "text/markdown": [
       "<span style='font-size: 20px;'>**Based on the feedback provided, experiences with wisdom tooth extraction at KTPH are mixed, with both highly positive and negative reviews.\n",
       "\n",
       "### Positive Feedback\n",
       "Several patients reported positive experiences, highlighting the skill and professionalism of the staff.\n",
       "*   **Dr. Hze-Khoong Eugene Poh** was praised for being professional, patient, and extremely skilled. One patient noted he removed their wisdom tooth in 15 minutes without cutting the gums, while another mentioned he extracted impacted teeth without any gum incision, leading to fast healing and no swelling.\n",
       "*   **Dr. Loo cheng woo** was described as professional and quick, performing a surgery with no hiccups.\n",
       "*   **Dr. Lim and Dr. Hur** were called \"amazingly gentle, patient and skillful\" during a wisdom tooth extraction, taking time to explain the procedure and calm the patient.\n",
       "*   The dental day surgery team received a \"shout-out\" for being efficient and competent. Patients who underwent surgery with general anesthesia felt the team walked them through the entire process, including wait times and financials.\n",
       "*   One patient who had surgery on two separate occasions found the staff professional, efficient, and kind. They felt well-informed about recovery and appreciated a follow-up call from the hospital.\n",
       "\n",
       "### Negative Feedback\n",
       "Some patients reported very poor experiences with their wisdom tooth procedures.\n",
       "*   One patient described their surgery as a \"very poor experience,\" stating the surgeon left afterward without saying anything, which they felt was a \"complete lack of professionalism.\" This patient had to call the hospital multiple times for information on the healing process and ended up searching for medical advice online.\n",
       "*   Another patient had a \"bad surgery\" after their recommended surgeon was swapped for a different dentist on the day of the procedure. They claim to still experience pain years later.\n",
       "*   A user commented that doctors do not inform patients about the risks of complications associated with the surgery.\n",
       "\n",
       "### Other Related Feedback\n",
       "*   A patient who had a wisdom tooth consultation was very happy with the service, describing the staff at registration, X-ray, and the payment counter as \"super welcoming and nice.\"\n",
       "*   While one patient's son had a smooth procedure to remove three teeth, they noted a \"ridiculous\" wait of over two hours at the pharmacy afterward.**</span>"
      ],
      "text/plain": [
       "<IPython.core.display.Markdown object>"
      ]
     },
     "metadata": {},
     "output_type": "display_data"
    },
    {
     "data": {
      "text/html": [
       "<span style=\"color:red; font-size:15px;\">END OF RETRIEVEAL TEXT - ********************************.</span>"
      ],
      "text/plain": [
       "<IPython.core.display.HTML object>"
      ]
     },
     "metadata": {},
     "output_type": "display_data"
    },
    {
     "name": "stdout",
     "output_type": "stream",
     "text": [
      "#############################################################\n",
      " Answered in 295.36 seconds.\n",
      "\n"
     ]
    },
    {
     "name": "stdin",
     "output_type": "stream",
     "text": [
      "User:  •\tAre there any reviews about the process and care for appendicitis surgery at SGH?\n"
     ]
    },
    {
     "name": "stdout",
     "output_type": "stream",
     "text": [
      "User query****************************************************: •\tAre there any reviews about the process and care for appendicitis surgery at SGH?\n"
     ]
    },
    {
     "data": {
      "text/html": [
       "<span style=\"color:green; font-size:15px;\"> LLM Retrieved answer ********************************.</span>"
      ],
      "text/plain": [
       "<IPython.core.display.HTML object>"
      ]
     },
     "metadata": {},
     "output_type": "display_data"
    },
    {
     "data": {
      "text/markdown": [
       "<span style='font-size: 20px;'>**There are no reviews available that specifically mention the process or care for appendicitis surgery at SGH.\n",
       "\n",
       "While reviews for other conditions and procedures exist—such as breast surgery, a traumatic brain injury, and treatment for an infected thumb—none pertain to appendicitis. One individual who had \"a surgery\" was impressed with the doctors' skills and experience but found the administrative staff and the Accounts & Billing Department's attitudes to be appalling.**</span>"
      ],
      "text/plain": [
       "<IPython.core.display.Markdown object>"
      ]
     },
     "metadata": {},
     "output_type": "display_data"
    },
    {
     "data": {
      "text/html": [
       "<span style=\"color:red; font-size:15px;\">END OF RETRIEVEAL TEXT - ********************************.</span>"
      ],
      "text/plain": [
       "<IPython.core.display.HTML object>"
      ]
     },
     "metadata": {},
     "output_type": "display_data"
    },
    {
     "name": "stdout",
     "output_type": "stream",
     "text": [
      "#############################################################\n",
      " Answered in 218.50 seconds.\n",
      "\n"
     ]
    },
    {
     "name": "stdin",
     "output_type": "stream",
     "text": [
      "User:  •\tWhat do patients say about the Orthopaedic department at SGH for knee surgery?\n"
     ]
    },
    {
     "name": "stdout",
     "output_type": "stream",
     "text": [
      "User query****************************************************: •\tWhat do patients say about the Orthopaedic department at SGH for knee surgery?\n"
     ]
    },
    {
     "data": {
      "text/html": [
       "<span style=\"color:green; font-size:15px;\"> LLM Retrieved answer ********************************.</span>"
      ],
      "text/plain": [
       "<IPython.core.display.HTML object>"
      ]
     },
     "metadata": {},
     "output_type": "display_data"
    },
    {
     "data": {
      "text/markdown": [
       "<span style='font-size: 20px;'>**There is no available patient feedback specifically regarding the Orthopaedic department at SGH for knee surgery.\n",
       "\n",
       "However, one patient hospitalized for a \"very bad lock knee\" complimented the A&E, ward 52 medical staff, and a physiotherapist at SGH for their professional service and care.**</span>"
      ],
      "text/plain": [
       "<IPython.core.display.Markdown object>"
      ]
     },
     "metadata": {},
     "output_type": "display_data"
    },
    {
     "data": {
      "text/html": [
       "<span style=\"color:red; font-size:15px;\">END OF RETRIEVEAL TEXT - ********************************.</span>"
      ],
      "text/plain": [
       "<IPython.core.display.HTML object>"
      ]
     },
     "metadata": {},
     "output_type": "display_data"
    },
    {
     "name": "stdout",
     "output_type": "stream",
     "text": [
      "#############################################################\n",
      " Answered in 305.47 seconds.\n",
      "\n"
     ]
    },
    {
     "name": "stdin",
     "output_type": "stream",
     "text": [
      "User:  •\tHow did patients describe their experience with waiting times at NUH A&E during weekends?\n"
     ]
    },
    {
     "name": "stdout",
     "output_type": "stream",
     "text": [
      "User query****************************************************: •\tHow did patients describe their experience with waiting times at NUH A&E during weekends?\n"
     ]
    },
    {
     "data": {
      "text/html": [
       "<span style=\"color:green; font-size:15px;\"> LLM Retrieved answer ********************************.</span>"
      ],
      "text/plain": [
       "<IPython.core.display.HTML object>"
      ]
     },
     "metadata": {},
     "output_type": "display_data"
    },
    {
     "data": {
      "text/markdown": [
       "<span style='font-size: 20px;'>**Based on patient feedback, experiences with waiting times at the NUH A&E during weekends are mixed, ranging from very short to several hours.\n",
       "\n",
       "### Positive or Shorter Waits\n",
       "*   One patient visiting on a Saturday evening was pleasantly surprised that the entire process, from registration to collecting medication, took about an hour.\n",
       "*   A visitor to the children's emergency on a Saturday described the wait as \"fast and short.\"\n",
       "*   Another patient who visited on a Sunday called the experience \"FANTASTIC,\" as they were seen within 20 minutes and their total time at the A&E was three hours.\n",
       "*   One individual described their visit on a Sunday as a \"smooth checking from being checked to discharge.\"\n",
       "*   A patient admitted on a Sunday at 3 a.m. for chest pain reported a positive experience, stating the doctors and nurses took good care of them.\n",
       "\n",
       "### Negative or Longer Waits\n",
       "*   Several patients reported waits of around two hours on Fridays and Sundays.\n",
       "*   One person waited four hours on a Sunday, while another waited from 10:15 a.m. to 2:35 p.m. on a Sunday.\n",
       "*   Multiple patients with children reported long waits, including 5 hours on a Sunday night and another 5-hour wait to see a doctor followed by a 2-hour wait for a \"space.\"\n",
       "*   A patient with a child who had a high fever and was vomiting reported a \"really bad\" experience, waiting 7.5 hours on a Sunday.\n",
       "*   One individual's father, who had severe back pain and fever, waited more than six hours to be treated on a Sunday.\n",
       "*   Some patients gave general warnings, with one stating that on a Saturday, you would \"keep waiting and waiting,\" and another advising against going for A&E services on a Sunday.\n",
       "\n",
       "### Other Weekend-Related Delays\n",
       "*   A patient admitted for a knee operation on a Saturday night felt their case was a \"lower priority\" and waited over 24 hours for a surgery slot without food or drink.\n",
       "*   The husband of another patient, admitted for a broken bone, had his surgery repeatedly delayed from Thursday through Sunday due to emergency cases.\n",
       "*   One patient visiting on a Saturday noted that no specialist doctors are available to attend to patients after 6 p.m.**</span>"
      ],
      "text/plain": [
       "<IPython.core.display.Markdown object>"
      ]
     },
     "metadata": {},
     "output_type": "display_data"
    },
    {
     "data": {
      "text/html": [
       "<span style=\"color:red; font-size:15px;\">END OF RETRIEVEAL TEXT - ********************************.</span>"
      ],
      "text/plain": [
       "<IPython.core.display.HTML object>"
      ]
     },
     "metadata": {},
     "output_type": "display_data"
    },
    {
     "name": "stdout",
     "output_type": "stream",
     "text": [
      "#############################################################\n",
      " Answered in 370.37 seconds.\n",
      "\n"
     ]
    },
    {
     "name": "stdin",
     "output_type": "stream",
     "text": [
      "User:  •\tWhat was the average waiting time for patients at KKH Children’s Emergency in the past 6 months?\n"
     ]
    },
    {
     "name": "stdout",
     "output_type": "stream",
     "text": [
      "User query****************************************************: •\tWhat was the average waiting time for patients at KKH Children’s Emergency in the past 6 months?\n"
     ]
    },
    {
     "data": {
      "text/html": [
       "<span style=\"color:green; font-size:15px;\"> LLM Retrieved answer ********************************.</span>"
      ],
      "text/plain": [
       "<IPython.core.display.HTML object>"
      ]
     },
     "metadata": {},
     "output_type": "display_data"
    },
    {
     "data": {
      "text/markdown": [
       "<span style='font-size: 20px;'>**Based on the information provided, a specific average waiting time for patients at the KKH Children’s Emergency in the past six months is not available.\n",
       "\n",
       "However, individual experiences indicate a wide range of wait times. Some patients have reported extensive waits of 3, 4, 5, 6, 7, and even up to 12 hours to see a doctor. One nurse reportedly told a patient that a \"3-hours waiting is 'the normal waiting time'.\" Other long waits mentioned include waiting for over 2.5 hours, 86 minutes, 90 minutes, and one instance where an estimated 190-minute wait turned into over 260 minutes. A shortage of doctors was given as a reason for a long wait on one occasion.\n",
       "\n",
       "Conversely, some visitors have had faster experiences, describing the process as \"fast and smooth\" or being seen in under two hours from arrival to medication collection. Waits of around one to two hours have also been reported. In one case, a child with an open wound was attended to first despite a crowd.\n",
       "\n",
       "It has also been noted that the estimated waiting times displayed on screens can be unreliable and may increase significantly during the wait.**</span>"
      ],
      "text/plain": [
       "<IPython.core.display.Markdown object>"
      ]
     },
     "metadata": {},
     "output_type": "display_data"
    },
    {
     "data": {
      "text/html": [
       "<span style=\"color:red; font-size:15px;\">END OF RETRIEVEAL TEXT - ********************************.</span>"
      ],
      "text/plain": [
       "<IPython.core.display.HTML object>"
      ]
     },
     "metadata": {},
     "output_type": "display_data"
    },
    {
     "name": "stdout",
     "output_type": "stream",
     "text": [
      "#############################################################\n",
      " Answered in 476.87 seconds.\n",
      "\n"
     ]
    },
    {
     "name": "stdin",
     "output_type": "stream",
     "text": [
      "User:  exit\n"
     ]
    }
   ],
   "source": [
    "while True:\n",
    "    query_input = input(\"User: \")\n",
    "    start_time = time.time()\n",
    "    response = query_engine.query(query_input)\n",
    "    print(\"User query****************************************************:\",query_input)\n",
    "    #print(\"LLM query#######################:\",output_text)\n",
    "    if query_input == \"exit\":\n",
    "        break\n",
    "    #response = Agent_chat(output_text)\n",
    "    display(HTML('<span style=\"color:green; font-size:15px;\"> LLM Retrieved answer ********************************.</span>'))\n",
    "\n",
    "    display(Markdown(f\"<span style='font-size: 20px;'>**{response}**</span>\"))\n",
    "\n",
    "    display(HTML('<span style=\"color:red; font-size:15px;\">END OF RETRIEVEAL TEXT - ********************************.</span>'))\n",
    "    #print(f\"Agent: {output_text}\")\n",
    "    print(\"#############################################################\")\n",
    "    elapsed_time = time.time() - start_time\n",
    "    print(f\" Answered in {elapsed_time:.2f} seconds.\\n\")\n",
    "    #chat_engine.reset()"
   ]
  },
  {
   "cell_type": "markdown",
   "id": "996f421a-6a83-493b-92b4-a9fcc5c7bcbe",
   "metadata": {},
   "source": [
    "### Simple RAG search Engine with Gradio UI"
   ]
  },
  {
   "cell_type": "code",
   "execution_count": 17,
   "id": "9071856b-331a-4fdb-b966-810c99cfdea6",
   "metadata": {
    "tags": []
   },
   "outputs": [
    {
     "name": "stdout",
     "output_type": "stream",
     "text": [
      "* Running on local URL:  http://127.0.0.1:7861\n",
      "* Running on public URL: https://65195fd78360e28e5c.gradio.live\n",
      "\n",
      "This share link expires in 1 week. For free permanent hosting and GPU upgrades, run `gradio deploy` from the terminal in the working directory to deploy to Hugging Face Spaces (https://huggingface.co/spaces)\n"
     ]
    },
    {
     "data": {
      "text/html": [
       "<div><iframe src=\"https://65195fd78360e28e5c.gradio.live\" width=\"100%\" height=\"500\" allow=\"autoplay; camera; microphone; clipboard-read; clipboard-write;\" frameborder=\"0\" allowfullscreen></iframe></div>"
      ],
      "text/plain": [
       "<IPython.core.display.HTML object>"
      ]
     },
     "metadata": {},
     "output_type": "display_data"
    },
    {
     "data": {
      "text/plain": []
     },
     "execution_count": 17,
     "metadata": {},
     "output_type": "execute_result"
    },
    {
     "name": "stdout",
     "output_type": "stream",
     "text": [
      " Answered in 492.18 seconds.\n",
      "\n"
     ]
    }
   ],
   "source": [
    "import gradio as gr\n",
    "\n",
    "def gradio_interface(query_input):\n",
    "    if query_input == \"exit\":\n",
    "        return \"Exiting..>>>>>>>>>>>>>>>>>>>>>>>>>>>>>>>>>>>>>>>>>>>>>>>>>>>>>>>>>>>>>>>>>>>>>>>>>>>>>>>>>.\", \"\"\n",
    "    start_time = time.time()\n",
    "    response = query_engine.query(query_input)\n",
    "    elapsed_time = time.time() - start_time\n",
    "    print(f\" Answered in {elapsed_time:.2f} seconds.\\n\")\n",
    "    #reset_chat()\n",
    "    return response\n",
    "\n",
    "iface = gr.Interface(\n",
    "    fn=gradio_interface,\n",
    "    inputs=gr.Textbox(lines=2, placeholder=\"Enter your query here...\"),\n",
    "    title=\"Patient Pulse AI\",\n",
    "    outputs=[gr.Textbox(label=\"Chat Response\",lines=10)],\n",
    "    description=\"Patient Pulse AI, Question Answering Engine on hospital Google reviews\",\n",
    "    live=False\n",
    ")\n",
    "\n",
    "iface.launch(share=True)"
   ]
  },
  {
   "cell_type": "code",
   "execution_count": null,
   "id": "46eb760c-3597-4b60-bc26-6feca08580bd",
   "metadata": {},
   "outputs": [],
   "source": []
  }
 ],
 "metadata": {
  "environment": {
   "kernel": "conda-env-pytorch-pytorch",
   "name": "workbench-notebooks.m132",
   "type": "gcloud",
   "uri": "us-docker.pkg.dev/deeplearning-platform-release/gcr.io/workbench-notebooks:m132"
  },
  "kernelspec": {
   "display_name": "Python [conda env:base] *",
   "language": "python",
   "name": "conda-base-py"
  },
  "language_info": {
   "codemirror_mode": {
    "name": "ipython",
    "version": 3
   },
   "file_extension": ".py",
   "mimetype": "text/x-python",
   "name": "python",
   "nbconvert_exporter": "python",
   "pygments_lexer": "ipython3",
   "version": "3.12.7"
  }
 },
 "nbformat": 4,
 "nbformat_minor": 5
}
