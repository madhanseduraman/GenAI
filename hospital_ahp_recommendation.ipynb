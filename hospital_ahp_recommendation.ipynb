{
 "cells": [
  {
   "cell_type": "markdown",
   "id": "797d98b5-4135-424e-ae01-2f6363dcc2a0",
   "metadata": {},
   "source": [
    "## Hospital Recommendation Engine (Ranking + RAG Output + LLM Layer)"
   ]
  },
  {
   "cell_type": "markdown",
   "id": "97a0bbd6-5558-4090-93a8-36498d80b2e9",
   "metadata": {},
   "source": [
    "### Hospital Ranking with Analytical Hireracy Process"
   ]
  },
  {
   "cell_type": "code",
   "execution_count": 1,
   "id": "927420aa",
   "metadata": {
    "tags": []
   },
   "outputs": [],
   "source": [
    "import pandas as pd\n",
    "import numpy as np"
   ]
  },
  {
   "cell_type": "markdown",
   "id": "2ce46e8d-7aef-4691-8a2f-622696363b64",
   "metadata": {},
   "source": [
    "### Loading the hospital performance metrics data"
   ]
  },
  {
   "cell_type": "code",
   "execution_count": 6,
   "id": "cabf0480-8046-4ebf-8149-70796fe2a2aa",
   "metadata": {
    "tags": []
   },
   "outputs": [],
   "source": [
    "consolidated_metrics = pd.read_excel(\"hospital metrics.xlsx\",sheet_name='Sheet1')"
   ]
  },
  {
   "cell_type": "code",
   "execution_count": 7,
   "id": "a5949840-be09-4880-b7e4-4f39b9116155",
   "metadata": {
    "tags": []
   },
   "outputs": [
    {
     "data": {
      "text/html": [
       "<div>\n",
       "<style scoped>\n",
       "    .dataframe tbody tr th:only-of-type {\n",
       "        vertical-align: middle;\n",
       "    }\n",
       "\n",
       "    .dataframe tbody tr th {\n",
       "        vertical-align: top;\n",
       "    }\n",
       "\n",
       "    .dataframe thead th {\n",
       "        text-align: right;\n",
       "    }\n",
       "</style>\n",
       "<table border=\"1\" class=\"dataframe\">\n",
       "  <thead>\n",
       "    <tr style=\"text-align: right;\">\n",
       "      <th></th>\n",
       "      <th>S.No</th>\n",
       "      <th>Metrics</th>\n",
       "      <th>NUH Metric</th>\n",
       "      <th>Gleanagles Metric</th>\n",
       "      <th>Khoo Tech Puat</th>\n",
       "      <th>SGH</th>\n",
       "      <th>TTS</th>\n",
       "      <th>KK Women</th>\n",
       "      <th>Mt Alvernia</th>\n",
       "      <th>Mt Elizabeth</th>\n",
       "    </tr>\n",
       "  </thead>\n",
       "  <tbody>\n",
       "    <tr>\n",
       "      <th>0</th>\n",
       "      <td>0</td>\n",
       "      <td>Average Rating</td>\n",
       "      <td>3.12</td>\n",
       "      <td>3.53</td>\n",
       "      <td>2.34</td>\n",
       "      <td>2.71</td>\n",
       "      <td>2.64</td>\n",
       "      <td>2.74</td>\n",
       "      <td>3.50</td>\n",
       "      <td>3.61</td>\n",
       "    </tr>\n",
       "    <tr>\n",
       "      <th>1</th>\n",
       "      <td>1</td>\n",
       "      <td>Average Sentiment</td>\n",
       "      <td>0.08</td>\n",
       "      <td>0.12</td>\n",
       "      <td>0.02</td>\n",
       "      <td>0.04</td>\n",
       "      <td>0.03</td>\n",
       "      <td>0.03</td>\n",
       "      <td>0.11</td>\n",
       "      <td>0.10</td>\n",
       "    </tr>\n",
       "    <tr>\n",
       "      <th>2</th>\n",
       "      <td>2</td>\n",
       "      <td>Response Rate (%)</td>\n",
       "      <td>0.00</td>\n",
       "      <td>41.18</td>\n",
       "      <td>0.00</td>\n",
       "      <td>0.54</td>\n",
       "      <td>0.00</td>\n",
       "      <td>0.00</td>\n",
       "      <td>6.09</td>\n",
       "      <td>39.50</td>\n",
       "    </tr>\n",
       "    <tr>\n",
       "      <th>3</th>\n",
       "      <td>3</td>\n",
       "      <td>One-time Reviewer %</td>\n",
       "      <td>10.42</td>\n",
       "      <td>7.92</td>\n",
       "      <td>8.67</td>\n",
       "      <td>8.11</td>\n",
       "      <td>7.50</td>\n",
       "      <td>7.88</td>\n",
       "      <td>5.42</td>\n",
       "      <td>8.29</td>\n",
       "    </tr>\n",
       "    <tr>\n",
       "      <th>4</th>\n",
       "      <td>4</td>\n",
       "      <td>Frequent Reviewer %</td>\n",
       "      <td>62.89</td>\n",
       "      <td>70.81</td>\n",
       "      <td>60.33</td>\n",
       "      <td>71.89</td>\n",
       "      <td>69.00</td>\n",
       "      <td>66.50</td>\n",
       "      <td>71.56</td>\n",
       "      <td>65.32</td>\n",
       "    </tr>\n",
       "  </tbody>\n",
       "</table>\n",
       "</div>"
      ],
      "text/plain": [
       "   S.No              Metrics  NUH Metric  Gleanagles Metric  Khoo Tech Puat  \\\n",
       "0     0       Average Rating        3.12               3.53            2.34   \n",
       "1     1    Average Sentiment        0.08               0.12            0.02   \n",
       "2     2    Response Rate (%)        0.00              41.18            0.00   \n",
       "3     3  One-time Reviewer %       10.42               7.92            8.67   \n",
       "4     4  Frequent Reviewer %       62.89              70.81           60.33   \n",
       "\n",
       "    SGH     TTS  KK Women  Mt Alvernia  Mt Elizabeth  \n",
       "0   2.71   2.64      2.74         3.50          3.61  \n",
       "1   0.04   0.03      0.03         0.11          0.10  \n",
       "2   0.54   0.00      0.00         6.09         39.50  \n",
       "3   8.11   7.50      7.88         5.42          8.29  \n",
       "4  71.89  69.00     66.50        71.56         65.32  "
      ]
     },
     "execution_count": 7,
     "metadata": {},
     "output_type": "execute_result"
    }
   ],
   "source": [
    "consolidated_metrics.head()"
   ]
  },
  {
   "cell_type": "code",
   "execution_count": 8,
   "id": "5df0829e",
   "metadata": {
    "tags": []
   },
   "outputs": [
    {
     "name": "stdout",
     "output_type": "stream",
     "text": [
      "[[1. 1. 1. 1. 1. 1. 1. 1. 1. 1. 1. 1. 1. 1. 1.]\n",
      " [1. 1. 1. 1. 1. 1. 1. 1. 1. 1. 1. 1. 1. 1. 1.]\n",
      " [1. 1. 1. 1. 1. 1. 1. 1. 1. 1. 1. 1. 1. 1. 1.]\n",
      " [1. 1. 1. 1. 1. 1. 1. 1. 1. 1. 1. 1. 1. 1. 1.]\n",
      " [1. 1. 1. 1. 1. 1. 1. 1. 1. 1. 1. 1. 1. 1. 1.]\n",
      " [1. 1. 1. 1. 1. 1. 1. 1. 1. 1. 1. 1. 1. 1. 1.]\n",
      " [1. 1. 1. 1. 1. 1. 1. 1. 1. 1. 1. 1. 1. 1. 1.]\n",
      " [1. 1. 1. 1. 1. 1. 1. 1. 1. 1. 1. 1. 1. 1. 1.]\n",
      " [1. 1. 1. 1. 1. 1. 1. 1. 1. 1. 1. 1. 1. 1. 1.]\n",
      " [1. 1. 1. 1. 1. 1. 1. 1. 1. 1. 1. 1. 1. 1. 1.]\n",
      " [1. 1. 1. 1. 1. 1. 1. 1. 1. 1. 1. 1. 1. 1. 1.]\n",
      " [1. 1. 1. 1. 1. 1. 1. 1. 1. 1. 1. 1. 1. 1. 1.]\n",
      " [1. 1. 1. 1. 1. 1. 1. 1. 1. 1. 1. 1. 1. 1. 1.]\n",
      " [1. 1. 1. 1. 1. 1. 1. 1. 1. 1. 1. 1. 1. 1. 1.]\n",
      " [1. 1. 1. 1. 1. 1. 1. 1. 1. 1. 1. 1. 1. 1. 1.]]\n"
     ]
    }
   ],
   "source": [
    "\n",
    "n_metrics = len(consolidated_metrics)\n",
    "pairwise_matrix = np.ones((n_metrics, n_metrics))\n",
    "print(pairwise_matrix)\n",
    "important_indices = [0, 1, 11, 13]\n",
    "for i in range(n_metrics):\n",
    "    for j in range(n_metrics):\n",
    "        if i in important_indices and j not in important_indices:\n",
    "            pairwise_matrix[i][j] = 3\n",
    "            pairwise_matrix[j][i] = 1 / 3\n"
   ]
  },
  {
   "cell_type": "markdown",
   "id": "a7676bd2-fb49-4479-b6a3-46148c77f5d3",
   "metadata": {
    "tags": []
   },
   "source": [
    "### Deriving Eigen Values and Eigen Vectors"
   ]
  },
  {
   "cell_type": "code",
   "execution_count": 11,
   "id": "24c16046",
   "metadata": {
    "tags": []
   },
   "outputs": [
    {
     "name": "stdout",
     "output_type": "stream",
     "text": [
      "[ 0.00000000e+00  1.50000000e+01  1.10621119e-15 -3.79474131e-16\n",
      "  6.96336207e-17 -1.68497167e-32  7.23196358e-32 -7.61813808e-33\n",
      "  1.12078954e-46 -1.86896029e-48  2.19653646e-49  1.34506001e-50\n",
      "  8.95547117e-55 -1.22508042e-64 -2.37375467e-69]\n",
      "1\n",
      "[-0.43759497 -0.43759497 -0.14586499 -0.14586499 -0.14586499 -0.14586499\n",
      " -0.14586499 -0.14586499 -0.14586499 -0.14586499 -0.14586499 -0.43759497\n",
      " -0.14586499 -0.43759497 -0.14586499]\n",
      "[0.13043478 0.13043478 0.04347826 0.04347826 0.04347826 0.04347826\n",
      " 0.04347826 0.04347826 0.04347826 0.04347826 0.04347826 0.13043478\n",
      " 0.04347826 0.13043478 0.04347826]\n"
     ]
    }
   ],
   "source": [
    "\n",
    "eigenvalues, eigenvectors = np.linalg.eig(pairwise_matrix)\n",
    "print(eigenvalues)\n",
    "#print(eigenvectors)\n",
    "max_index = np.argmax(eigenvalues)\n",
    "print(max_index)\n",
    "principal_eigenvector = np.real(eigenvectors[:, max_index])\n",
    "print(principal_eigenvector)\n",
    "priority_vector = principal_eigenvector / principal_eigenvector.sum()\n",
    "print(priority_vector)"
   ]
  },
  {
   "cell_type": "code",
   "execution_count": 12,
   "id": "06d46406",
   "metadata": {
    "tags": []
   },
   "outputs": [],
   "source": [
    "\n",
    "normalized_df = (df - df.min()) / (df.max() - df.min())\n"
   ]
  },
  {
   "cell_type": "code",
   "execution_count": 14,
   "id": "e6673be4-353f-4849-ae92-739ef1a7796d",
   "metadata": {
    "tags": []
   },
   "outputs": [
    {
     "name": "stdout",
     "output_type": "stream",
     "text": [
      "                           NUH  Gleanagles  Khoo Tech Puat       SGH  \\\n",
      "Average Rating        0.012417    0.012726        0.006058  0.007837   \n",
      "Average Sentiment     0.000318    0.000000        0.000052  0.000000   \n",
      "Response Rate (%)     0.000000    0.153232        0.000000  0.001468   \n",
      "One-time Reviewer %   0.041471    0.029109        0.022444  0.023687   \n",
      "Frequent Reviewer %   0.250298    0.263808        0.156178  0.210889   \n",
      "Avg Review Length     1.000000    1.000000        1.000000  1.000000   \n",
      "Avg Likes             0.150038    0.157260        0.121606  0.130712   \n",
      "Rating 1 %            0.152870    0.090722        0.154029  0.145847   \n",
      "Rating 2 %            0.015562    0.022354        0.015972  0.012562   \n",
      "Rating 3 %            0.021770    0.033326        0.007766  0.012562   \n",
      "Rating 4 %            0.047162    0.048515        0.010355  0.025271   \n",
      "Rating 5 %            0.160630    0.176034        0.070750  0.096654   \n",
      "Neutral Sentiment %   0.192510    0.179355        0.105465  0.130701   \n",
      "Positive Sentiment %  0.141527    0.150508        0.085428  0.086029   \n",
      "Negative Sentiment %  0.063997    0.041947        0.067980  0.076460   \n",
      "\n",
      "                           TTS  KK Women  Mt Alvernia  Mt Elizabeth  \n",
      "Average Rating        0.007548  0.008256     0.010009      0.014666  \n",
      "Average Sentiment     0.000086  0.000090     0.000000      0.000000  \n",
      "Response Rate (%)     0.000000  0.000000     0.017657      0.164626  \n",
      "One-time Reviewer %   0.021443  0.023743     0.015679      0.034221  \n",
      "Frequent Reviewer %   0.197278  0.200368     0.210966      0.272511  \n",
      "Avg Review Length     1.000000  1.000000     1.000000      1.000000  \n",
      "Avg Likes             0.128441  0.131078     0.131589      0.165593  \n",
      "Rating 1 %            0.146758  0.150291     0.082320      0.105043  \n",
      "Rating 2 %            0.015725  0.013559     0.013671      0.023733  \n",
      "Rating 3 %            0.008577  0.010184     0.011013      0.022103  \n",
      "Rating 4 %            0.024302  0.019585     0.048335      0.043037  \n",
      "Rating 5 %            0.090548  0.107716     0.138302      0.221786  \n",
      "Neutral Sentiment %   0.126858  0.113230     0.131274      0.223123  \n",
      "Positive Sentiment %  0.094665  0.111332     0.129267      0.147537  \n",
      "Negative Sentiment %  0.064387  0.076742     0.033749      0.045920  \n"
     ]
    }
   ],
   "source": [
    "print(normalized_df)"
   ]
  },
  {
   "cell_type": "markdown",
   "id": "26dd9184-2e44-4d1b-96ff-455442f10bef",
   "metadata": {},
   "source": [
    "### Calcualting Ranking for Hospitals"
   ]
  },
  {
   "cell_type": "code",
   "execution_count": 16,
   "id": "436272f2",
   "metadata": {
    "tags": []
   },
   "outputs": [],
   "source": [
    "\n",
    "weighted_df = normalized_df.mul(priority_vector, axis=0)\n"
   ]
  },
  {
   "cell_type": "code",
   "execution_count": 17,
   "id": "720dd194",
   "metadata": {
    "tags": []
   },
   "outputs": [],
   "source": [
    "ahp_scores = weighted_df.sum()"
   ]
  },
  {
   "cell_type": "code",
   "execution_count": 18,
   "id": "91dd178f",
   "metadata": {
    "tags": []
   },
   "outputs": [
    {
     "name": "stdout",
     "output_type": "stream",
     "text": [
      "Hospital Ranking based on Full AHP Process with Eigenvector Method:\n",
      "Mt Elizabeth      0.141386\n",
      "Gleanagles        0.132062\n",
      "NUH               0.125233\n",
      "Mt Alvernia       0.109956\n",
      "KK Women          0.105259\n",
      "SGH               0.101814\n",
      "TTS               0.100535\n",
      "Khoo Tech Puat    0.093420\n",
      "dtype: float64\n"
     ]
    }
   ],
   "source": [
    "\n",
    "ranked_hospitals = ahp_scores.sort_values(ascending=False)\n",
    "print(\"Hospital Ranking based on Full AHP Process with Eigenvector Method:\")\n",
    "print(ranked_hospitals)\n"
   ]
  },
  {
   "cell_type": "code",
   "execution_count": 19,
   "id": "37db5ea2-ba3d-4b5f-82a2-63c687407c04",
   "metadata": {
    "tags": []
   },
   "outputs": [],
   "source": [
    "from fastapi import FastAPI\n",
    "from pydantic import BaseModel\n",
    "from typing import Dict, List\n",
    "import numpy as np\n",
    "import pandas as pd"
   ]
  },
  {
   "cell_type": "code",
   "execution_count": 24,
   "id": "40012b0c-b9d8-4675-8b5f-1689bbb47478",
   "metadata": {
    "tags": []
   },
   "outputs": [],
   "source": [
    "from fastapi import FastAPI\n",
    "import pandas as pd\n",
    "import numpy as np\n",
    "\n",
    "app = FastAPI()\n",
    "\n",
    "@app.get(\"/rank_hospitals\")\n",
    "def rank_hospitals():\n",
    "    df = pd.read_excel(\"hospital metrics.xlsx\", sheet_name='Sheet1')\n",
    "    n_metrics = len(df)\n",
    "    pairwise_matrix = np.ones((n_metrics, n_metrics))\n",
    "    important_indices = [0, 1, 11, 13]\n",
    "    for i in range(n_metrics):\n",
    "        for j in range(n_metrics):\n",
    "            if i in important_indices and j not in important_indices:\n",
    "                pairwise_matrix[i][j] = 3\n",
    "                pairwise_matrix[j][i] = 1 / 3\n",
    "    eigenvalues, eigenvectors = np.linalg.eig(pairwise_matrix)\n",
    "    max_index = np.argmax(eigenvalues.real)\n",
    "    priority_vector = eigenvectors[:, max_index].real\n",
    "    priority_vector = priority_vector / priority_vector.sum()\n",
    "    normalized_df = (df - df.min()) / (df.max() - df.min())\n",
    "    weighted_df = normalized_df.mul(priority_vector, axis=0)\n",
    "    ahp_scores = weighted_df.sum()\n",
    "    ranked_hospitals = ahp_scores.sort_values(ascending=False)\n",
    "    return ranked_hospitals.to_dict()"
   ]
  },
  {
   "cell_type": "code",
   "execution_count": null,
   "id": "bb6dd286-a28b-4227-afa3-dfcafcc256b9",
   "metadata": {},
   "outputs": [],
   "source": []
  },
  {
   "cell_type": "markdown",
   "id": "80f0e801-0e47-46c8-8dfc-89da64334dfa",
   "metadata": {},
   "source": [
    "### LLM for Recommendation"
   ]
  },
  {
   "cell_type": "code",
   "execution_count": 27,
   "id": "e7ddcd90-b54d-4674-8f8d-2365761b960d",
   "metadata": {
    "tags": []
   },
   "outputs": [],
   "source": [
    "import getpass\n",
    "import os\n",
    "\n",
    "\n",
    "import base64\n",
    "import pandas as pd\n",
    "import json\n",
    "import vertexai\n",
    "import tiktoken # A popular tokenizer, though not directly from google-generativeai\n",
    "import time\n",
    "from vertexai.generative_models import GenerativeModel, Part, SafetySetting\n",
    "import warnings\n",
    "warnings.filterwarnings(\"ignore\")\n",
    "from langchain_text_splitters import RecursiveCharacterTextSplitter\n",
    "\n",
    "project_name = !(gcloud config get-value core/project)\n",
    "project_name = project_name[0]\n",
    "from llama_index.llms.langchain import LangChainLLM\n",
    "from langchain_google_vertexai import VertexAIEmbeddings\n",
    "\n",
    "\n",
    "from llama_index.core.schema import Document\n",
    "# import\n",
    "from llama_index.core import VectorStoreIndex, SimpleDirectoryReader\n",
    "from llama_index.vector_stores.chroma import ChromaVectorStore\n",
    "from llama_index.core import StorageContext\n",
    "#from llama_index.embeddings.huggingface import HuggingFaceEmbedding\n",
    "from IPython.display import Markdown, display\n",
    "import chromadb\n",
    "from llama_index.core import Settings"
   ]
  },
  {
   "cell_type": "code",
   "execution_count": 2,
   "id": "9eb10759-3ae5-434b-b14d-892260c83e00",
   "metadata": {
    "tags": []
   },
   "outputs": [],
   "source": [
    "RAG_output = \"\"\"\n",
    "\n",
    "\n",
    "There are no reviews available that specifically mention the process or care for appendicitis \n",
    "surgery at SGH.While reviews for other conditions and procedures exist—such as breast surgery, \n",
    "a traumatic brain injury, and treatment for an infected thumb—none pertain to appendicitis. \n",
    "One individual who had \"a surgery\" was impressed with the doctors' skills and experience but \n",
    "found the administrative staff and the Accounts & Billing Department's attitudes to be appalling.\n",
    "\n",
    "\"\"\""
   ]
  },
  {
   "cell_type": "code",
   "execution_count": 135,
   "id": "580a2605-ec22-44b5-b49f-84781f83c987",
   "metadata": {
    "tags": []
   },
   "outputs": [],
   "source": [
    "#Gemini\n",
    "class LLM_model:\n",
    "    def __init__(self, project, location, model_name):\n",
    "        self.project = project\n",
    "        self.location = location\n",
    "        self.model_name = model_name\n",
    "        self.generation_config = {\n",
    "            \"max_output_tokens\": 3000,\n",
    "            \"temperature\": 0,\n",
    "            \"top_p\": 0.9\n",
    "        }\n",
    "        self.safety_settings = [\n",
    "            SafetySetting(\n",
    "                category=SafetySetting.HarmCategory.HARM_CATEGORY_HATE_SPEECH,\n",
    "                threshold=SafetySetting.HarmBlockThreshold.OFF\n",
    "            ),\n",
    "            SafetySetting(\n",
    "                category=SafetySetting.HarmCategory.HARM_CATEGORY_DANGEROUS_CONTENT,\n",
    "                threshold=SafetySetting.HarmBlockThreshold.OFF\n",
    "            ),\n",
    "            SafetySetting(\n",
    "                category=SafetySetting.HarmCategory.HARM_CATEGORY_SEXUALLY_EXPLICIT,\n",
    "                threshold=SafetySetting.HarmBlockThreshold.OFF\n",
    "            ),\n",
    "            SafetySetting(\n",
    "                category=SafetySetting.HarmCategory.HARM_CATEGORY_HARASSMENT,\n",
    "                threshold=SafetySetting.HarmBlockThreshold.OFF\n",
    "            ),\n",
    "        ]\n",
    "        vertexai.init(project=self.project, location=self.location)\n",
    "        self.model = GenerativeModel(self.model_name)\n",
    "\n",
    "    def complete(self, text):\n",
    "        chat = self.model.start_chat()\n",
    "        result=chat.send_message([text],\n",
    "                                 generation_config=self.generation_config,\n",
    "                                 safety_settings=self.safety_settings\n",
    "        )\n",
    "        text_result=result.candidates[0].content.parts[0].text\n",
    "        return text_result\n",
    "# Example usage:\n",
    "llm_gemini = LLM_model(project_name, \n",
    "                       \"us-central1\", \n",
    "                       \"gemini-2.5-pro\")"
   ]
  },
  {
   "cell_type": "code",
   "execution_count": 136,
   "id": "67e52f98-7244-4804-b9a1-746212af94da",
   "metadata": {
    "tags": []
   },
   "outputs": [],
   "source": [
    "def Summarize_RAGoutput(query_input,RAG_output, llm,llm_type='gemini'):\n",
    "    \n",
    "    \n",
    "    # Configure the sentiment analysis prompt or question\n",
    "    prompt = (f\"\"\"\n",
    "\n",
    "Role: You are an AI assistant to provide recommendation.\n",
    "\n",
    "Context: You have been given a user query and the output from a RAG engine. Using these two pieces of information, perform the following tasks:\n",
    "\n",
    "query input: {query_input}\n",
    "RAG Output:\n",
    "{RAG_output}\n",
    "\n",
    "Tasks:\n",
    "1. Determine whether the RAG Output is directly or indirectly relevant to the query input.\n",
    "2. If relevant, provide a relevancy score from 1 to 10 (10 = most relevant).\n",
    "3. Provide a concise explanation for the relevancy score.\n",
    "\n",
    "Output your answer as a JSON object with two fields: \"relevancy_score\" (integer) and \"explanation\" (string).\n",
    "\n",
    "\n",
    "\"\"\"\n",
    "\n",
    "    )\n",
    "    try:\n",
    "        messages = [\n",
    "            {\"role\": \"assistant\", \"content\": prompt}\n",
    "        ]\n",
    "        # result = llm.invoke(messages).content\n",
    "        if llm_type=='gemini':\n",
    "            result = llm.complete(prompt)\n",
    "        else:\n",
    "            result = llm.complete(prompt).text\n",
    "        return result.strip()  # Using strip() to remove leading/trailing whitespace\n",
    "    except Exception as e:\n",
    "        print(f\"Error processing row: {e}\")\n",
    "        return np.nan\n"
   ]
  },
  {
   "cell_type": "code",
   "execution_count": 137,
   "id": "b9ef98b9-8f9c-41d4-823c-34144c0a3849",
   "metadata": {
    "tags": []
   },
   "outputs": [],
   "source": [
    "query_input = \"\"\"\n",
    "\n",
    "Are there any reviews about the process and care for appendicitis surgery at SGH?\n",
    "\"\"\""
   ]
  },
  {
   "cell_type": "code",
   "execution_count": 138,
   "id": "a604019e-eaaa-4a98-953c-b0e80b4d18f2",
   "metadata": {
    "tags": []
   },
   "outputs": [
    {
     "data": {
      "text/plain": [
       "'\\n\\n\\n**There are no reviews available that specifically mention the process or care for appendicitis surgery at SGH.\\n\\nWhile reviews for other conditions and procedures exist—such as breast surgery, a traumatic brain injury, and treatment for an infected thumb—none pertain to appendicitis. One individual who had \"a surgery\" was impressed with the doctors\\' skills and experience but found the administrative staff and the Accounts & Billing Department\\'s attitudes to be appalling.**\\n\\n'"
      ]
     },
     "execution_count": 138,
     "metadata": {},
     "output_type": "execute_result"
    }
   ],
   "source": [
    "RAG_output"
   ]
  },
  {
   "cell_type": "code",
   "execution_count": 139,
   "id": "62547a9f-fc8b-41e2-919f-2f42f8b213cb",
   "metadata": {
    "tags": []
   },
   "outputs": [],
   "source": [
    "LLM_reco = Summarize_RAGoutput(query_input,RAG_output,llm_gemini)"
   ]
  },
  {
   "cell_type": "code",
   "execution_count": 140,
   "id": "d24536ca-01b6-41d9-a189-c3ea77fab1fc",
   "metadata": {
    "tags": []
   },
   "outputs": [
    {
     "name": "stdout",
     "output_type": "stream",
     "text": [
      "```json\n",
      "{\n",
      "  \"relevancy_score\": 9,\n",
      "  \"explanation\": \"The RAG output is highly relevant because it directly addresses the user's query by explicitly stating that no reviews for appendicitis surgery at SGH are available. It also provides the next best information: a review for a general surgery at the same hospital, which offers some insight into the quality of doctors and administrative staff.\"\n",
      "}\n",
      "```\n"
     ]
    }
   ],
   "source": [
    "print(LLM_reco)"
   ]
  },
  {
   "cell_type": "code",
   "execution_count": null,
   "id": "04cf9ea7-df47-4c42-9429-ba2c6a5651e4",
   "metadata": {},
   "outputs": [],
   "source": []
  }
 ],
 "metadata": {
  "environment": {
   "kernel": "conda-env-pytorch-pytorch",
   "name": "workbench-notebooks.m132",
   "type": "gcloud",
   "uri": "us-docker.pkg.dev/deeplearning-platform-release/gcr.io/workbench-notebooks:m132"
  },
  "kernelspec": {
   "display_name": "PyTorch 1-13 (Local)",
   "language": "python",
   "name": "conda-env-pytorch-pytorch"
  },
  "language_info": {
   "codemirror_mode": {
    "name": "ipython",
    "version": 3
   },
   "file_extension": ".py",
   "mimetype": "text/x-python",
   "name": "python",
   "nbconvert_exporter": "python",
   "pygments_lexer": "ipython3",
   "version": "3.10.18"
  }
 },
 "nbformat": 4,
 "nbformat_minor": 5
}
